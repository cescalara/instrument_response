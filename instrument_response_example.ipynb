{
 "cells": [
  {
   "cell_type": "markdown",
   "metadata": {},
   "source": [
    "# Instrument response modelling\n",
    "\n",
    "Demonstration of how to build and use an instrument response to compare a model with data."
   ]
  },
  {
   "cell_type": "code",
   "execution_count": 1,
   "metadata": {
    "ExecuteTime": {
     "end_time": "2019-03-08T15:29:11.757824Z",
     "start_time": "2019-03-08T15:29:11.376013Z"
    }
   },
   "outputs": [
    {
     "name": "stderr",
     "output_type": "stream",
     "text": [
      "/Users/fran/projects/bayes/lib/python3.6/site-packages/h5py/__init__.py:36: FutureWarning: Conversion of the second argument of issubdtype from `float` to `np.floating` is deprecated. In future, it will be treated as `np.float64 == np.dtype(float).type`.\n",
      "  from ._conv import register_converters as _register_converters\n"
     ]
    }
   ],
   "source": [
    "from matplotlib import pyplot as plt\n",
    "import numpy as np\n",
    "import h5py\n",
    "\n",
    "from instrument_response.toy_simulation import ToySimulation"
   ]
  },
  {
   "cell_type": "markdown",
   "metadata": {},
   "source": [
    "## Forward model"
   ]
  },
  {
   "cell_type": "code",
   "execution_count": 19,
   "metadata": {
    "ExecuteTime": {
     "end_time": "2019-03-08T15:34:10.560413Z",
     "start_time": "2019-03-08T15:34:10.554144Z"
    }
   },
   "outputs": [],
   "source": [
    "# Define inputs\n",
    "\n",
    "power_law_index = 1.0\n",
    "min_energy = 1 # TeV\n",
    "max_energy = 100 # TeV\n",
    "\n",
    "simulation = ToySimulation(power_law_index, min_energy, max_energy)"
   ]
  },
  {
   "cell_type": "code",
   "execution_count": 20,
   "metadata": {
    "ExecuteTime": {
     "end_time": "2019-03-08T15:34:13.139990Z",
     "start_time": "2019-03-08T15:34:10.872842Z"
    }
   },
   "outputs": [],
   "source": [
    "# Run for large number of particles to generate response\n",
    "N = int(1e5)\n",
    "simulation.run(N)\n",
    "simulation.save('output/demo.h5')"
   ]
  },
  {
   "cell_type": "code",
   "execution_count": 21,
   "metadata": {
    "ExecuteTime": {
     "end_time": "2019-03-08T15:34:13.152121Z",
     "start_time": "2019-03-08T15:34:13.142565Z"
    }
   },
   "outputs": [],
   "source": [
    "# Read in output\n",
    "with h5py.File('output/demo.h5', 'r') as f:\n",
    "    true_energy = f['true_energy'].value\n",
    "    N_secondaries = f['number_of_secondaries'].value\n",
    "    N_det_secondaries = f['number_of_detected_secondaries'].value\n",
    "    detected_energy = f['detected_energy'].value\n",
    "    initial_energy = f['initial_energy'].value"
   ]
  },
  {
   "cell_type": "code",
   "execution_count": 22,
   "metadata": {
    "ExecuteTime": {
     "end_time": "2019-03-08T15:34:14.027889Z",
     "start_time": "2019-03-08T15:34:13.154645Z"
    }
   },
   "outputs": [
    {
     "data": {
      "image/png": "[encoded data removed]",
      "text/plain": [
       "<Figure size 432x288 with 1 Axes>"
      ]
     },
     "metadata": {},
     "output_type": "display_data"
    }
   ],
   "source": [
    "# Plot\n",
    "bins = np.logspace(np.log(min_energy), np.log(max_energy), base=np.e)\n",
    "\n",
    "fig, ax = plt.subplots();\n",
    "ax.hist(initial_energy, bins=bins, alpha=0.7, label='initial')\n",
    "ax.hist(true_energy, bins=bins, alpha=0.7, label='true');\n",
    "ax.hist(detected_energy, bins=bins, alpha=0.7, label='detected');\n",
    "ax.set_xscale('log')\n",
    "ax.set_yscale('log')\n",
    "ax.set_xlabel('$E$ / TeV')\n",
    "ax.legend();"
   ]
  },
  {
   "cell_type": "markdown",
   "metadata": {},
   "source": [
    "## Response matrix"
   ]
  },
  {
   "cell_type": "code",
   "execution_count": 33,
   "metadata": {
    "ExecuteTime": {
     "end_time": "2019-03-08T15:41:07.170558Z",
     "start_time": "2019-03-08T15:41:07.009408Z"
    }
   },
   "outputs": [
    {
     "data": {
      "image/png": "[encoded data removed]",
      "text/plain": [
       "<Figure size 432x288 with 1 Axes>"
      ]
     },
     "metadata": {},
     "output_type": "display_data"
    }
   ],
   "source": [
    "fig, ax = plt.subplots()\n",
    "bins_det = np.logspace(np.log(min(detected_energy)), \n",
    "                       np.log(max(detected_energy)), base=np.e)\n",
    "h, _, _, _ = ax.hist2d(np.log10(true_energy), np.log10(detected_energy), bins=[50,50]);"
   ]
  },
  {
   "cell_type": "code",
   "execution_count": null,
   "metadata": {},
   "outputs": [],
   "source": []
  }
 ],
 "metadata": {
  "kernelspec": {
   "display_name": "Python (bayes)",
   "language": "python",
   "name": "bayes"
  },
  "language_info": {
   "codemirror_mode": {
    "name": "ipython",
    "version": 3
   },
   "file_extension": ".py",
   "mimetype": "text/x-python",
   "name": "python",
   "nbconvert_exporter": "python",
   "pygments_lexer": "ipython3",
   "version": "3.6.4"
  }
 },
 "nbformat": 4,
 "nbformat_minor": 2
}
