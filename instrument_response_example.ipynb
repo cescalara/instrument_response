{
 "cells": [
  {
   "cell_type": "markdown",
   "metadata": {},
   "source": [
    "# Instrument response modelling\n",
    "\n",
    "Demonstration of how to build and use an instrument response to compare a model with data."
   ]
  },
  {
   "cell_type": "code",
   "execution_count": 3,
   "metadata": {
    "ExecuteTime": {
     "end_time": "2019-03-08T10:38:15.270761Z",
     "start_time": "2019-03-08T10:38:15.264424Z"
    }
   },
   "outputs": [],
   "source": [
    "from matplotlib import pyplot as plt\n",
    "import numpy as np\n",
    "\n",
    "from instrument_response.power_law import truncated_pareto"
   ]
  },
  {
   "cell_type": "code",
   "execution_count": 7,
   "metadata": {
    "ExecuteTime": {
     "end_time": "2019-03-08T10:42:43.529823Z",
     "start_time": "2019-03-08T10:42:43.526911Z"
    }
   },
   "outputs": [],
   "source": [
    "power_law = truncated_pareto(2.0, 1, 100.0) # TeV"
   ]
  },
  {
   "cell_type": "code",
   "execution_count": 11,
   "metadata": {
    "ExecuteTime": {
     "end_time": "2019-03-08T10:43:16.066739Z",
     "start_time": "2019-03-08T10:43:15.643115Z"
    }
   },
   "outputs": [
    {
     "data": {
      "image/png": "[encoded data removed]",
      "text/plain": [
       "<Figure size 432x288 with 1 Axes>"
      ]
     },
     "metadata": {},
     "output_type": "display_data"
    }
   ],
   "source": [
    "true_energy = power_law.samples(int(1e2))\n",
    "\n",
    "fig, ax = plt.subplots()\n",
    "ax.hist(true_energy, bins=np.logspace(np.log(1), np.log(100), base=np.e))\n",
    "ax.set_xscale('log')\n",
    "ax.set_yscale('log')"
   ]
  },
  {
   "cell_type": "code",
   "execution_count": 12,
   "metadata": {
    "ExecuteTime": {
     "end_time": "2019-03-08T10:43:22.529369Z",
     "start_time": "2019-03-08T10:43:22.524116Z"
    }
   },
   "outputs": [
    {
     "data": {
      "text/plain": [
       "array([ 1.1635623 ,  7.87697791,  1.00622843,  1.99962841,  1.61061988,\n",
       "        1.7551672 ,  1.50406907, 20.33790969,  3.22466992,  1.56213001,\n",
       "        1.25333641,  5.5490322 , 98.26729757,  1.54454356,  1.21377568,\n",
       "        1.6511225 ,  1.07282948,  1.31174273,  3.15322173,  2.85364622,\n",
       "        1.61718394,  1.40005942,  2.57664634,  1.37088441,  3.23126893,\n",
       "        1.42554011,  8.49491553,  1.08180562,  1.51649415,  4.232746  ,\n",
       "        1.81140376,  4.35836232,  1.18412367,  1.75464093,  3.26041911,\n",
       "        3.06630517,  2.41725798,  1.26772343,  1.05453953,  1.22830519,\n",
       "        4.37484509, 27.11050632,  2.33727426,  3.42925825,  1.11862968,\n",
       "        1.58680967,  1.34296431,  1.42542728, 10.33825551,  3.49138656,\n",
       "        2.41167062,  3.00190614, 10.82415239,  1.06133296,  2.74712395,\n",
       "        3.40060858,  5.51563025,  2.8513628 ,  2.42484169,  2.41493074,\n",
       "        4.11024524,  2.99922551,  2.4306315 ,  1.04276226,  1.94608652,\n",
       "        1.18819746,  1.04318926,  1.25268982,  2.0878449 ,  1.16112843,\n",
       "        2.97429489,  1.21932522,  1.28235866, 12.35922511,  3.68414505,\n",
       "        1.099502  , 17.92893143,  7.27422544,  8.30922659, 26.69593169,\n",
       "        4.19178693,  2.8168135 ,  1.20116462, 38.82218169,  1.97571722,\n",
       "        3.95548858,  3.628621  ,  1.77494176,  2.30923854,  3.27673558,\n",
       "        1.40645681,  1.94975739,  1.0333441 ,  1.47940026,  1.6821301 ,\n",
       "        4.02659755,  1.03475147, 24.81078731,  7.98094801,  1.3343229 ])"
      ]
     },
     "execution_count": 12,
     "metadata": {},
     "output_type": "execute_result"
    }
   ],
   "source": [
    "true_energy"
   ]
  },
  {
   "cell_type": "markdown",
   "metadata": {},
   "source": [
    "Detection effects, consider some calorimetric measurement of some kind (Fermi-LAT, IceCube, Auger, MAGIC etc...)\n",
    "\n",
    "This will include\n",
    "* Interaction probability as a function of energy (only some of the incoming particles/photons interact)\n",
    "* Produciton of secondary particles\n",
    "* Incomplete counting of secondary particles\n",
    "* Energy resolution (binning up of counts)\n",
    "* (Energy reconstruction - next step)\n",
    "\n",
    "Output will be\n",
    "* Count spectrum, or number of counts in channels\n"
   ]
  },
  {
   "cell_type": "code",
   "execution_count": null,
   "metadata": {},
   "outputs": [],
   "source": []
  }
 ],
 "metadata": {
  "kernelspec": {
   "display_name": "Python (bayes)",
   "language": "python",
   "name": "bayes"
  },
  "language_info": {
   "codemirror_mode": {
    "name": "ipython",
    "version": 3
   },
   "file_extension": ".py",
   "mimetype": "text/x-python",
   "name": "python",
   "nbconvert_exporter": "python",
   "pygments_lexer": "ipython3",
   "version": "3.6.4"
  }
 },
 "nbformat": 4,
 "nbformat_minor": 2
}
