{
 "cells": [
  {
   "cell_type": "markdown",
   "metadata": {},
   "source": [
    "# Instrument response modelling\n",
    "\n",
    "Demonstration of how to generate and use an instrument response to compare a model with data. Based on some of the ideas in [this](https://grburgess.github.io/fits_files/) example."
   ]
  },
  {
   "cell_type": "code",
   "execution_count": 1,
   "metadata": {
    "ExecuteTime": {
     "end_time": "2019-03-11T18:08:35.521851Z",
     "start_time": "2019-03-11T18:08:34.926092Z"
    }
   },
   "outputs": [
    {
     "name": "stderr",
     "output_type": "stream",
     "text": [
      "/Users/fran/projects/bayes/lib/python3.6/site-packages/h5py/__init__.py:36: FutureWarning: Conversion of the second argument of issubdtype from `float` to `np.floating` is deprecated. In future, it will be treated as `np.float64 == np.dtype(float).type`.\n",
      "  from ._conv import register_converters as _register_converters\n"
     ]
    }
   ],
   "source": [
    "from matplotlib import pyplot as plt\n",
    "import matplotlib\n",
    "import numpy as np\n",
    "import h5py\n",
    "\n",
    "from instrument_response.toy_simulation import ToySimulation\n",
    "from instrument_response.detector import Response"
   ]
  },
  {
   "cell_type": "code",
   "execution_count": 2,
   "metadata": {
    "ExecuteTime": {
     "end_time": "2019-03-11T18:08:35.526902Z",
     "start_time": "2019-03-11T18:08:35.524171Z"
    }
   },
   "outputs": [],
   "source": [
    "random_seed = 1"
   ]
  },
  {
   "cell_type": "markdown",
   "metadata": {},
   "source": [
    "## Simulation of the detection process\n",
    "\n",
    "In order to characterise the response of a detector, we need to build a simulation for the detection process. Consider a simple calorimeter, such a simulation would have to include:\n",
    "* Generation of incident photons/particles\n",
    "* Effective area of the dectector, or interaction probability of the incoming photons/particles\n",
    "* Production of secondary particles/photons and their interactions in the detector medium\n",
    "* Dectection of some observable output of these interactions (e.g. photons in PMTs)\n",
    "\n",
    "In the real world, these simulations are complex and usually handled by tools like Geant4. For fun, we can look at how it works for a toy model which includes the above simulation steps. The ideas can easily be generalised to a more complex detector and its simulation."
   ]
  },
  {
   "cell_type": "code",
   "execution_count": 3,
   "metadata": {
    "ExecuteTime": {
     "end_time": "2019-03-11T18:08:36.604831Z",
     "start_time": "2019-03-11T18:08:36.598100Z"
    }
   },
   "outputs": [],
   "source": [
    "# Run a simulation\n",
    "# Want to see what goes on at high E without running forever\n",
    "power_law_index = 1.0 \n",
    "\n",
    "# Energy range of interest\n",
    "min_energy = 1 # TeV\n",
    "max_energy = 100 # TeV\n",
    "\n",
    "simulation = ToySimulation(power_law_index, min_energy, max_energy)"
   ]
  },
  {
   "cell_type": "code",
   "execution_count": null,
   "metadata": {
    "ExecuteTime": {
     "start_time": "2019-03-11T18:08:37.212Z"
    }
   },
   "outputs": [],
   "source": [
    "# Run for large number of particles to generate response (~2 min)\n",
    "response_file = 'output/response_sim.h5'\n",
    "\n",
    "# Uncomment to run again, can just read file\n",
    "simulation.run(int(5e6), seed=random_seed)\n",
    "simulation.save(response_file)"
   ]
  },
  {
   "cell_type": "code",
   "execution_count": null,
   "metadata": {
    "ExecuteTime": {
     "end_time": "2019-03-11T18:07:06.861617Z",
     "start_time": "2019-03-11T18:07:05.002431Z"
    }
   },
   "outputs": [],
   "source": [
    "# Read in output to have a look\n",
    "with h5py.File(response_file, 'r') as f:\n",
    "    initial_energy = f['initial_energy'].value\n",
    "    true_energy = f['true_energy'].value\n",
    "    detected_energy = f['detected_energy'].value\n",
    "    \n",
    "# Plot\n",
    "bins = np.logspace(np.log(min_energy), np.log(max_energy), base=np.e)\n",
    "\n",
    "fig, ax = plt.subplots();\n",
    "ax.hist(initial_energy, bins=bins, alpha=0.7, label='initial')\n",
    "ax.hist(true_energy, bins=bins, alpha=0.7, label='true');\n",
    "ax.hist(detected_energy, bins=bins, alpha=0.7, label='detected');\n",
    "ax.set_xscale('log')\n",
    "ax.set_yscale('log')\n",
    "ax.set_xlabel('$E$ / TeV')\n",
    "ax.set_ylabel(r'$\\frac{\\mathrm{d}N}{\\mathrm{d}t}$')\n",
    "ax.legend();"
   ]
  },
  {
   "cell_type": "markdown",
   "metadata": {},
   "source": [
    "We can see how the injected energy spectrum changes through different stages of the simulation. The *initial* spectrum is that incident upon the detector, the *true* spectrum is that taking into account the effective area (or interaction probability) and the *detected* is that registered in the detector. In order to compare a model to data, we need to quantify the changes in each of these steps."
   ]
  },
  {
   "cell_type": "markdown",
   "metadata": {},
   "source": [
    "## Generating the response matrix\n",
    "\n",
    "Now that we have a suitable simulation, we can extract the output to build the response matrix. This matrix basically gives us the expected event rate in a 2D bin (initial energy, detected energy), for a given incoming flux.\n",
    "\n",
    "We start by quantifying the effective area using the initial and true energies. This is just the area of each energy bin."
   ]
  },
  {
   "cell_type": "code",
   "execution_count": null,
   "metadata": {
    "ExecuteTime": {
     "end_time": "2019-03-11T18:07:10.467234Z",
     "start_time": "2019-03-11T18:07:09.742818Z"
    }
   },
   "outputs": [],
   "source": [
    "dN_dt_init, _ = np.histogram(initial_energy, bins=bins)\n",
    "dN_dt_true, _ = np.histogram(true_energy, bins=bins)\n",
    "\n",
    "fig, ax = plt.subplots()\n",
    "ax.plot(dN_dt_true / dN_dt_init * simulation.effective_area.maximum)\n",
    "ax.set_xlabel('$E$ / TeV')\n",
    "ax.set_ylabel('Effective area / $\\mathrm{m}^2$');"
   ]
  },
  {
   "cell_type": "markdown",
   "metadata": {},
   "source": [
    "Now, we want to quantify the energy dispersion. To get this from the simulation, we make a 2D histogram of the true energies and detected energies, then for each bin we divide by the event rate in the true spectrum and multiply by the effective area. This is done in the `Response` class. Here we work with a joint response matrix for both the effective area and the energy dispersion, thus it has units of $\\rm{m}^2$."
   ]
  },
  {
   "cell_type": "code",
   "execution_count": null,
   "metadata": {
    "ExecuteTime": {
     "end_time": "2019-03-11T18:07:54.175406Z",
     "start_time": "2019-03-11T18:07:53.685596Z"
    }
   },
   "outputs": [],
   "source": [
    "response = Response(initial_energy, true_energy, detected_energy,\n",
    "                    simulation.effective_area.maximum,\n",
    "                    nbins_true_energy=50, nbins_detected_energy=50)\n",
    "\n",
    "response.show()"
   ]
  },
  {
   "cell_type": "markdown",
   "metadata": {},
   "source": [
    "The above plot shows the response matrix separated out into separate true/initial energy bins. What we have is essentially proportional to a probability distribution, the probability to detect counts with some energy in the detector, given that counts of some true energy are incident upon it. \n",
    "\n",
    "We cannot *invert* the matrix to get the true energies for a set of detected energies, because we only know what these could be in a probabilistic sense.\n",
    "\n",
    "We can also show the matrix directly:\n",
    "\n"
   ]
  },
  {
   "cell_type": "code",
   "execution_count": null,
   "metadata": {
    "ExecuteTime": {
     "end_time": "2019-03-11T17:58:40.742842Z",
     "start_time": "2019-03-11T17:58:40.221568Z"
    }
   },
   "outputs": [],
   "source": [
    "fig, ax = plt.subplots()\n",
    "ax.contourf(response.true_energy_bins[:-1], response.detected_energy_bins[:-1], \n",
    "            response.matrix.T, 20)\n",
    "ax.set_xscale('log')\n",
    "ax.set_yscale('log')\n",
    "ax.set_xlabel('$E_\\mathrm{true}$ / TeV')\n",
    "ax.set_ylabel('$E_\\mathrm{det}$ / TeV');"
   ]
  },
  {
   "cell_type": "markdown",
   "metadata": {},
   "source": [
    "In this simple example, the response matrix is *model independent*, as we divide through by the number of counts in the injected spectrum for each bin. In realistic cases, this can be more difficult to take into account."
   ]
  },
  {
   "cell_type": "markdown",
   "metadata": {},
   "source": [
    "## Comparing a model with data\n",
    "\n",
    "Now that we have quantified the instrument response, we can look at how to use this to compare a model with data. First, let's simulate some example data using the same detector model as was used to generate the response."
   ]
  },
  {
   "cell_type": "code",
   "execution_count": null,
   "metadata": {
    "ExecuteTime": {
     "end_time": "2019-03-11T17:59:34.232209Z",
     "start_time": "2019-03-11T17:59:34.203227Z"
    }
   },
   "outputs": [],
   "source": [
    "true_power_law_index = 2.0\n",
    "N = int(5e2)\n",
    "data_file = 'output/data.h5'\n",
    "\n",
    "simulation = ToySimulation(true_power_law_index, min_energy, max_energy)\n",
    "simulation.run(N)\n",
    "simulation.save(data_file)"
   ]
  },
  {
   "cell_type": "code",
   "execution_count": null,
   "metadata": {
    "ExecuteTime": {
     "end_time": "2019-03-11T18:00:04.282927Z",
     "start_time": "2019-03-11T18:00:03.815244Z"
    }
   },
   "outputs": [],
   "source": [
    "# Have a look at our \"data\"\n",
    "with h5py.File('output/data.h5', 'r') as f:\n",
    "    detected_energy = f['detected_energy'].value\n",
    "\n",
    "channels = response.detected_energy_bins\n",
    "dE = np.diff(channels)\n",
    "\n",
    "# convert detected energies to rate in channels\n",
    "dN_dt, _ = np.histogram(detected_energy, bins=channels)\n",
    "dN_dtdE = dN_dt / dE\n",
    "\n",
    "fig, ax = plt.subplots()\n",
    "ax.step(channels[:-1], dN_dtdE, where='pre')\n",
    "ax.set_xscale('log')\n",
    "ax.set_yscale('log')\n",
    "ax.set_xlim(0.1)\n",
    "ax.set_xlabel('$E_\\mathrm{det}$ / TeV')\n",
    "ax.set_ylabel(r'$\\frac{\\mathrm{d}N}{\\mathrm{d}t\\mathrm{d}E}$');"
   ]
  },
  {
   "cell_type": "markdown",
   "metadata": {},
   "source": [
    "### Forward folding\n",
    "\n",
    "Now let's consider a model for the energy spectrum, say $\\frac{\\mathrm{d}N}{\\mathrm{d}t\\mathrm{d}E} \\propto E^{-\\alpha}$. We want to use our observed data to infer $\\alpha$. To do this, we select some value of $\\alpha$, then fold our model through the instrument response to compare with the data. This *forward folding* is a convolution, or matrix multiplication of the model with the response.\n",
    "\n",
    "In our case, we know the true $\\alpha$ from the above simulation, so we can just forward fold to demonstrate that we are able to match the data well. In reality, we would try many different values of $\\alpha$, and compare each to the data with a statistical method to asses which on provides the \"best fit\"."
   ]
  },
  {
   "cell_type": "code",
   "execution_count": null,
   "metadata": {
    "ExecuteTime": {
     "end_time": "2019-03-11T18:00:07.218558Z",
     "start_time": "2019-03-11T18:00:07.214662Z"
    }
   },
   "outputs": [],
   "source": [
    "# Model\n",
    "from instrument_response.power_law import BoundedPowerLaw\n",
    "\n",
    "alpha = 2.0\n",
    "power_law = BoundedPowerLaw(alpha, min_energy, max_energy)"
   ]
  },
  {
   "cell_type": "code",
   "execution_count": null,
   "metadata": {
    "ExecuteTime": {
     "end_time": "2019-03-11T18:00:08.551758Z",
     "start_time": "2019-03-11T18:00:08.542923Z"
    }
   },
   "outputs": [],
   "source": [
    "# Normalise our model to match the simulated flux\n",
    "def differential_flux(e):\n",
    "    return simulation.total_dN_dtdA * power_law.pdf(e)\n",
    "\n",
    "# integral of the differential flux (simpson's rule)\n",
    "def integral(e1, e2):\n",
    "    return ((e2 - e1) / 6.0) * (differential_flux(e1) \n",
    "                              + 4 * differential_flux((e1 + e2) / 2.0) \n",
    "                              + differential_flux(e2))\n",
    "\n",
    "# For our model, calculate the rate in each true energy bin\n",
    "dN_dtdA = integral(response.true_energy_bins[:-1], response.true_energy_bins[1:])"
   ]
  },
  {
   "cell_type": "code",
   "execution_count": null,
   "metadata": {
    "ExecuteTime": {
     "end_time": "2019-03-11T18:00:32.281521Z",
     "start_time": "2019-03-11T18:00:31.769748Z"
    }
   },
   "outputs": [],
   "source": [
    "fig, ax = plt.subplots()\n",
    "\n",
    "ax.step(response.true_energy_bins[:-1], dN_dtdA, where='pre')\n",
    "ax.set_xscale('log')\n",
    "ax.set_yscale('log')\n",
    "ax.set_xlabel('$E$ / TeV')\n",
    "ax.set_ylabel(r'$\\frac{\\mathrm{d} N}{\\mathrm{d}t \\mathrm{d}A}$');"
   ]
  },
  {
   "cell_type": "markdown",
   "metadata": {},
   "source": [
    "As expected, our model is a power law with index $\\alpha=2$."
   ]
  },
  {
   "cell_type": "code",
   "execution_count": null,
   "metadata": {
    "ExecuteTime": {
     "end_time": "2019-03-11T18:00:33.220750Z",
     "start_time": "2019-03-11T18:00:33.217103Z"
    }
   },
   "outputs": [],
   "source": [
    "# Get folded counts in the detector by taking the dot product with the response\n",
    "dN_dt_model = np.dot(dN_dtdA, response.matrix) # dN/dtdA * dA -> dN/dt \n",
    "dN_dtdE_model = dN_dt_model / dE"
   ]
  },
  {
   "cell_type": "code",
   "execution_count": null,
   "metadata": {
    "ExecuteTime": {
     "end_time": "2019-03-11T18:00:49.750686Z",
     "start_time": "2019-03-11T18:00:49.060760Z"
    }
   },
   "outputs": [],
   "source": [
    "# Compare folded model and data\n",
    "fig, ax = plt.subplots()\n",
    "\n",
    "dE = np.diff(response.detected_energy_bins)\n",
    "ax.step(channels[:-1], dN_dtdE, where='pre', label='data')\n",
    "ax.step(channels[:-1], dN_dtdE_model, where='pre', label='model')\n",
    "ax.set_xscale('log')\n",
    "ax.set_yscale('log')\n",
    "ax.set_xlim(0.1)\n",
    "ax.set_xlabel('$E$ / TeV')\n",
    "ax.set_ylabel(r'$\\frac{\\mathrm{d}N}{\\mathrm{d}t\\mathrm{d}E}$')\n",
    "ax.legend();"
   ]
  },
  {
   "cell_type": "markdown",
   "metadata": {},
   "source": [
    "Again, as expected, we have a good match between the model and data in the energy range of our detector. If we would change alpha to some other value, we would see discrepancies in the model and data (just change $\\alpha$ above and re-run). See the other notebook in this repository, `fit_demo.ipynb` for how to fit for $\\alpha$ if it is unknown."
   ]
  }
 ],
 "metadata": {
  "kernelspec": {
   "display_name": "Python (bayes)",
   "language": "python",
   "name": "bayes"
  },
  "language_info": {
   "codemirror_mode": {
    "name": "ipython",
    "version": 3
   },
   "file_extension": ".py",
   "mimetype": "text/x-python",
   "name": "python",
   "nbconvert_exporter": "python",
   "pygments_lexer": "ipython3",
   "version": "3.6.4"
  }
 },
 "nbformat": 4,
 "nbformat_minor": 2
}
