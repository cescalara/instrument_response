{
 "cells": [
  {
   "cell_type": "markdown",
   "metadata": {},
   "source": [
    "# Spectral fitting \n",
    "Demonstration of how to fit a spectrum for the example described in `response_demo.ipynb` where an instrument response was generated for a simple toy detector.\n",
    "\n",
    "We will look at two different methods for comparison, both using [Stan](https://mc-stan.org)."
   ]
  },
  {
   "cell_type": "code",
   "execution_count": 16,
   "metadata": {
    "ExecuteTime": {
     "end_time": "2019-03-10T14:08:01.441687Z",
     "start_time": "2019-03-10T14:08:01.057594Z"
    }
   },
   "outputs": [],
   "source": [
    "import numpy as np\n",
    "import h5py\n",
    "import stan_utility\n",
    "from matplotlib import pyplot as plt\n",
    "from instrument_response.detector import Response"
   ]
  },
  {
   "cell_type": "markdown",
   "metadata": {},
   "source": [
    "We have some data detected by our toy detector. We think it comes from a power law (this is our model), and under this assumption, we want to fit for the normalisation, $N$, and spectral index, $\\alpha$, of this model (the parameters). In order to compare our model with data, we will use the response generated in `response_demo.ipynb`."
   ]
  },
  {
   "cell_type": "code",
   "execution_count": 9,
   "metadata": {
    "ExecuteTime": {
     "end_time": "2019-03-10T13:47:11.457653Z",
     "start_time": "2019-03-10T13:47:10.043350Z"
    }
   },
   "outputs": [],
   "source": [
    "# Load response\n",
    "response_file = 'output/response_sim.h5'\n",
    "with h5py.File(response_file, 'r') as f:\n",
    "    initial_energy = f['initial_energy'].value\n",
    "    true_energy = f['true_energy'].value\n",
    "    detected_energy = f['detected_energy'].value\n",
    "    effective_area_max = f['effective_area_maximum'].value\n",
    "response = Response(initial_energy, true_energy, detected_energy, effective_area_max)"
   ]
  },
  {
   "cell_type": "code",
   "execution_count": 14,
   "metadata": {
    "ExecuteTime": {
     "end_time": "2019-03-10T13:48:59.716128Z",
     "start_time": "2019-03-10T13:48:59.155277Z"
    }
   },
   "outputs": [
    {
     "data": {
      "image/png": "[encoded data removed]",
      "text/plain": [
       "<Figure size 432x288 with 1 Axes>"
      ]
     },
     "metadata": {},
     "output_type": "display_data"
    }
   ],
   "source": [
    "# Have a look at the data \n",
    "data_file = 'output/data.h5'\n",
    "\n",
    "with h5py.File(data_file, 'r') as f:\n",
    "    detected_energy = f['detected_energy'].value\n",
    "\n",
    "channels = response.detected_energy_bins\n",
    "dE = np.diff(channels)\n",
    "\n",
    "dN_dt, _ = np.histogram(detected_energy, bins=channels)\n",
    "dN_dtdE = dN_dt / dE\n",
    "\n",
    "fig, ax = plt.subplots()\n",
    "ax.step(channels[:-1], dN_dtdE, where='pre')\n",
    "ax.set_xscale('log')\n",
    "ax.set_yscale('log')\n",
    "ax.set_xlabel('$E_\\mathrm{det}$ / TeV')\n",
    "ax.set_ylabel(r'$\\frac{\\mathrm{d}N}{\\mathrm{d}t\\mathrm{d}E}$');"
   ]
  },
  {
   "cell_type": "markdown",
   "metadata": {
    "ExecuteTime": {
     "end_time": "2019-03-10T13:48:39.807253Z",
     "start_time": "2019-03-10T13:48:39.802880Z"
    }
   },
   "source": [
    "## Standard approach\n",
    "For this simple fitting example, we can fold our model spectrum through the instrument response to compare with the data in the fit, as described in `response_demo.ipynb`. We will use the Hamiltonian Monte Carlo approach implemented in `Stan` to determine which model parameters best describe our data.\n",
    "\n",
    "The likelihood is:\n",
    "$$\n",
    "p(n | \\alpha, N) = \\prod_{i=1}^{N_{\\rm{bins}}} \\frac{s_i^{n_i}e^{-s_i}}{n_i!}\n",
    "$$\n",
    "\n",
    "where $s_i$ are the expected counts in each energy bin (or *channel*), computed by folding the model through the repsonse, and $n_i$ are the actual observed counts in each bin."
   ]
  },
  {
   "cell_type": "code",
   "execution_count": null,
   "metadata": {},
   "outputs": [],
   "source": []
  }
 ],
 "metadata": {
  "kernelspec": {
   "display_name": "Python (bayes)",
   "language": "python",
   "name": "bayes"
  },
  "language_info": {
   "codemirror_mode": {
    "name": "ipython",
    "version": 3
   },
   "file_extension": ".py",
   "mimetype": "text/x-python",
   "name": "python",
   "nbconvert_exporter": "python",
   "pygments_lexer": "ipython3",
   "version": "3.6.4"
  }
 },
 "nbformat": 4,
 "nbformat_minor": 2
}
