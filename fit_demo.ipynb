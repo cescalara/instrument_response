{
 "cells": [
  {
   "cell_type": "markdown",
   "metadata": {},
   "source": [
    "# Spectral fitting \n",
    "Demonstration of how to fit a spectrum for the example described in `response_demo.ipynb` where an instrument response was generated for a simple toy detector.\n",
    "\n",
    "We will look at two different methods for comparison, both using [Stan](https://mc-stan.org)."
   ]
  },
  {
   "cell_type": "code",
   "execution_count": 1,
   "metadata": {
    "ExecuteTime": {
     "end_time": "2019-03-10T20:24:12.143045Z",
     "start_time": "2019-03-10T20:24:10.546121Z"
    }
   },
   "outputs": [
    {
     "name": "stderr",
     "output_type": "stream",
     "text": [
      "/Users/fran/projects/bayes/lib/python3.6/site-packages/h5py/__init__.py:36: FutureWarning: Conversion of the second argument of issubdtype from `float` to `np.floating` is deprecated. In future, it will be treated as `np.float64 == np.dtype(float).type`.\n",
      "  from ._conv import register_converters as _register_converters\n"
     ]
    }
   ],
   "source": [
    "import numpy as np\n",
    "import h5py\n",
    "import stan_utility\n",
    "import corner\n",
    "from matplotlib import pyplot as plt\n",
    "from instrument_response.detector import Response"
   ]
  },
  {
   "cell_type": "markdown",
   "metadata": {},
   "source": [
    "We have some data detected by our toy detector. We think it comes from a power law (this is our model), and under this assumption, we want to fit for the normalisation, $N$, and spectral index, $\\alpha$, of this model (the parameters). In order to compare our model with data, we will use the response generated in `response_demo.ipynb`."
   ]
  },
  {
   "cell_type": "code",
   "execution_count": 2,
   "metadata": {
    "ExecuteTime": {
     "end_time": "2019-03-10T20:24:13.580111Z",
     "start_time": "2019-03-10T20:24:12.144985Z"
    }
   },
   "outputs": [],
   "source": [
    "# Load response\n",
    "response_file = 'output/response_sim.h5'\n",
    "with h5py.File(response_file, 'r') as f:\n",
    "    initial_energy = f['initial_energy'].value\n",
    "    true_energy = f['true_energy'].value\n",
    "    detected_energy = f['detected_energy'].value\n",
    "    effective_area_max = f['effective_area_maximum'].value\n",
    "response = Response(initial_energy, true_energy, detected_energy, effective_area_max, \n",
    "                    nbins_true_energy=30, nbins_detected_energy=50)"
   ]
  },
  {
   "cell_type": "code",
   "execution_count": 3,
   "metadata": {
    "ExecuteTime": {
     "end_time": "2019-03-10T20:24:14.318865Z",
     "start_time": "2019-03-10T20:24:13.582239Z"
    }
   },
   "outputs": [
    {
     "data": {
      "image/png": "[encoded data removed]",
      "text/plain": [
       "<Figure size 432x288 with 1 Axes>"
      ]
     },
     "metadata": {},
     "output_type": "display_data"
    }
   ],
   "source": [
    "# Have a look at the data \n",
    "data_file = 'output/data.h5'\n",
    "\n",
    "with h5py.File(data_file, 'r') as f:\n",
    "    detected_energy = f['detected_energy'].value\n",
    "\n",
    "dN_dt, _ = np.histogram(detected_energy, bins=response.detected_energy_bins)\n",
    "\n",
    "fig, ax = plt.subplots()\n",
    "ax.step(response.detected_energy_bins[:-1], dN_dt, where='pre')\n",
    "ax.set_xscale('log')\n",
    "ax.set_yscale('log')\n",
    "ax.set_xlabel('$E_\\mathrm{det}$ / TeV')\n",
    "ax.set_ylabel(r'$\\frac{\\mathrm{d}N}{\\mathrm{d}t}$');"
   ]
  },
  {
   "cell_type": "markdown",
   "metadata": {
    "ExecuteTime": {
     "end_time": "2019-03-10T13:48:39.807253Z",
     "start_time": "2019-03-10T13:48:39.802880Z"
    }
   },
   "source": [
    "## Standard approach\n",
    "For this simple fitting example, we can fold our model spectrum through the instrument response to compare with the data in the fit, as described in `response_demo.ipynb`. We will use the Hamiltonian Monte Carlo approach implemented in `Stan` to determine which model parameters best describe our data.\n",
    "\n",
    "The likelihood is:\n",
    "$$\n",
    "p(n | \\alpha, N) = \\prod_{i=1}^{N_{\\rm{bins}}} \\frac{s_i^{n_i}e^{-s_i}}{n_i!},\n",
    "$$\n",
    "\n",
    "where $s_i$ are the expected counts in each energy bin (or *channel*), computed by folding the model through the repsonse, and $n_i$ are the actual observed counts in each bin."
   ]
  },
  {
   "cell_type": "code",
   "execution_count": null,
   "metadata": {
    "ExecuteTime": {
     "end_time": "2019-03-10T18:04:56.652853Z",
     "start_time": "2019-03-10T18:04:56.636302Z"
    }
   },
   "outputs": [],
   "source": [
    "# Compile the Stan model\n",
    "model = stan_utility.compile_model(filename='stan/standard_approach.stan', \n",
    "                                   model_name='standard')"
   ]
  },
  {
   "cell_type": "code",
   "execution_count": null,
   "metadata": {
    "ExecuteTime": {
     "end_time": "2019-03-10T18:05:12.798400Z",
     "start_time": "2019-03-10T18:04:57.424215Z"
    }
   },
   "outputs": [],
   "source": [
    "# Run the fit\n",
    "fit_input = {}\n",
    "fit_input['Nbins_true'] = response.nbins_true_energy\n",
    "fit_input['Nbins_detected'] = response.nbins_detected_energy\n",
    "fit_input['min_energy'] = 1 # TeV\n",
    "fit_input['max_energy'] = 100 # TeV\n",
    "fit_input['n'] = dN_dt\n",
    "fit_input['response_matrix'] = response.matrix\n",
    "fit_input['true_energy_bins'] = response.true_energy_bins\n",
    "fit_input['detected_energy_bins'] = response.detected_energy_bins\n",
    "\n",
    "fit = model.sampling(data=fit_input, iter=1000, chains=4)"
   ]
  },
  {
   "cell_type": "code",
   "execution_count": null,
   "metadata": {
    "ExecuteTime": {
     "end_time": "2019-03-10T18:04:40.015222Z",
     "start_time": "2019-03-10T18:04:39.485476Z"
    }
   },
   "outputs": [],
   "source": [
    "# View fit parameters\n",
    "chain = fit.extract(permuted=True)\n",
    "key_list = ['alpha', 'N']\n",
    "labels = [r'$\\alpha$', '$N$']\n",
    "#truths = [2.0, 0.9236320123663313]\n",
    "\n",
    "corner.corner(np.column_stack([chain[key] for key in key_list]),\n",
    "              labels=labels) #, truths=truths);"
   ]
  },
  {
   "cell_type": "code",
   "execution_count": null,
   "metadata": {
    "ExecuteTime": {
     "end_time": "2019-03-10T17:55:01.109915Z",
     "start_time": "2019-03-10T17:55:00.144714Z"
    }
   },
   "outputs": [],
   "source": [
    "# Look at samples of folded model counts in data space\n",
    "fig, ax = plt.subplots()\n",
    "ax.step(response.detected_energy_bins[:-1], fit_input['n'], where='pre')\n",
    "for i in range(100):\n",
    "    ax.step(response.detected_energy_bins[:-1], chain['s'][i], \n",
    "            where='pre', color='k', alpha = 0.01)\n",
    "ax.set_xscale('log')\n",
    "ax.set_yscale('log')\n",
    "ax.set_xlabel('$E_\\mathrm{det}$ / TeV')\n",
    "ax.set_ylabel(r'$\\frac{\\mathrm{d}N}{\\mathrm{d}t\\mathrm{d}E}$');"
   ]
  },
  {
   "cell_type": "markdown",
   "metadata": {},
   "source": [
    "## Hierarchical approach\n",
    "\n",
    "Another way to think about this could be to model each particle/photon from production to detection. In this way, each particle/photon would have latent *true* energies inferred from their detected energies. \n",
    "\n",
    "\n",
    "This time, instead of the response matrix used above, we now want a related quantity, the probability distribution of $P(E_{\\rm{det}} | E_{\\rm{true}})$ which will form part of the hierarchical likelihood. Our data will also now be just the detected energies for each event registered in the detector. \n",
    "\n",
    "The likelihood is as follows:\n",
    "$$\n",
    "P(E_{\\rm{det}} | \\alpha, N) = \\prod_{i=1}^{N_{\\rm{events}}} \n",
    "P(E_{\\rm{det}}^i | E_{\\rm{true}}^i) P(E_{\\rm{true}}^i | \\alpha, N).\n",
    "$$\n",
    "\n",
    "We can get the conditional probability distribution $P(E_{\\rm{det}} | E_{\\rm{true}})$ by normalising the response matrix."
   ]
  },
  {
   "cell_type": "code",
   "execution_count": 4,
   "metadata": {
    "ExecuteTime": {
     "end_time": "2019-03-10T20:24:23.058749Z",
     "start_time": "2019-03-10T20:24:22.570667Z"
    }
   },
   "outputs": [
    {
     "data": {
      "image/png": "[encoded data removed]",
      "text/plain": [
       "<Figure size 432x288 with 1 Axes>"
      ]
     },
     "metadata": {},
     "output_type": "display_data"
    }
   ],
   "source": [
    "P_Edet_given_Etrue = response.matrix / sum(sum(response.matrix)) \n",
    "\n",
    "fig, ax = plt.subplots()\n",
    "ax.contourf(response.true_energy_bins[:-1], response.detected_energy_bins[:-1], \n",
    "            P_Edet_given_Etrue.T)\n",
    "ax.set_xscale('log')\n",
    "ax.set_yscale('log')\n",
    "ax.set_xlabel('$E_\\mathrm{true}$ / TeV')\n",
    "ax.set_ylabel('$E_\\mathrm{det}$ / TeV');"
   ]
  },
  {
   "cell_type": "markdown",
   "metadata": {},
   "source": [
    "However, we will need to interpolate over this shape in Stan. This can be made easier by fitting a spline to the function and evaluating this from the knots and coefficients."
   ]
  },
  {
   "cell_type": "code",
   "execution_count": 5,
   "metadata": {
    "ExecuteTime": {
     "end_time": "2019-03-10T20:24:25.699580Z",
     "start_time": "2019-03-10T20:24:25.686281Z"
    }
   },
   "outputs": [],
   "source": [
    "# Fit a spline to P_Edet_given_Etrue\n",
    "from scipy.interpolate import RectBivariateSpline\n",
    "spline = RectBivariateSpline(response.true_energy_bins[:-1], \n",
    "                             response.detected_energy_bins[:-1], \n",
    "                             P_Edet_given_Etrue, s=0.0)\n",
    "\n",
    "# Get knots and coefficients for input to Stan\n",
    "p = 3 # spline degree\n",
    "knots = spline.get_knots()\n",
    "xknots = np.unique(knots[0])\n",
    "yknots = np.unique(knots[1])\n",
    "Nx = len(xknots)+p-1\n",
    "Ny = len(yknots)+p-1 \n",
    "coeffs = spline.get_coeffs()\n",
    "coeffs = coeffs.reshape(Nx, Ny)"
   ]
  },
  {
   "cell_type": "code",
   "execution_count": 6,
   "metadata": {
    "ExecuteTime": {
     "end_time": "2019-03-10T20:24:27.104002Z",
     "start_time": "2019-03-10T20:24:27.086426Z"
    }
   },
   "outputs": [
    {
     "name": "stdout",
     "output_type": "stream",
     "text": [
      "Using cached StanModel\n"
     ]
    }
   ],
   "source": [
    "# Compile the Stan model\n",
    "model = stan_utility.compile_model(filename='stan/hierarchical_approach.stan', \n",
    "                                   model_name='hierarchical', include_paths='stan/')"
   ]
  },
  {
   "cell_type": "code",
   "execution_count": 7,
   "metadata": {
    "ExecuteTime": {
     "end_time": "2019-03-10T20:41:59.146121Z",
     "start_time": "2019-03-10T20:24:28.535025Z"
    }
   },
   "outputs": [
    {
     "name": "stderr",
     "output_type": "stream",
     "text": [
      "WARNING:pystan:Rhat for parameter N is 1.6845309587070871!\n",
      "WARNING:pystan:Rhat for parameter alpha is 1.2365990138096854!\n",
      "WARNING:pystan:Rhat for parameter Etrue[1] is 1.1841443695198697!\n",
      "WARNING:pystan:Rhat for parameter Etrue[2] is 1.3458958919740112!\n",
      "WARNING:pystan:Rhat for parameter Etrue[3] is 1.3774953748962455!\n",
      "WARNING:pystan:Rhat for parameter Etrue[4] is 1.3720721950280947!\n",
      "WARNING:pystan:Rhat for parameter Etrue[5] is 1.8428490061336598!\n",
      "WARNING:pystan:Rhat for parameter Etrue[6] is 2.022629612091956!\n",
      "WARNING:pystan:Rhat for parameter Etrue[7] is 1.5466029405794557!\n",
      "WARNING:pystan:Rhat for parameter Etrue[8] is 1.258002745364115!\n",
      "WARNING:pystan:Rhat for parameter Etrue[9] is 1.2149354661200202!\n",
      "WARNING:pystan:Rhat for parameter P_Edet_given_Etrue[2] is 1.2217620143874863!\n",
      "WARNING:pystan:Rhat for parameter P_Edet_given_Etrue[3] is 1.5047084647648945!\n",
      "WARNING:pystan:Rhat for parameter P_Edet_given_Etrue[7] is 1.435172821424771!\n",
      "WARNING:pystan:Rhat for parameter Et is 1.1039188635884276!\n",
      "WARNING:pystan:Rhat for parameter lp__ is 1.5372276344209155!\n",
      "WARNING:pystan:Rhat above 1.1 or below 0.9 indicates that the chains very likely have not mixed\n",
      "WARNING:pystan:2000 of 2000 iterations saturated the maximum tree depth of 10 (100.0%)\n",
      "WARNING:pystan:Run again with max_treedepth larger than 10 to avoid saturation\n"
     ]
    }
   ],
   "source": [
    "fit_input = {}\n",
    "fit_input['Nevents'] = len(detected_energy[0:10])\n",
    "fit_input['Edet'] = detected_energy[0:10]\n",
    "fit_input['min_energy'] = 1.0 # TeV\n",
    "fit_input['max_energy'] = 100 # TeV\n",
    "fit_input['p'] = p\n",
    "fit_input['Lknots_x'] = len(xknots)\n",
    "fit_input['Lknots_y'] = len(yknots)\n",
    "fit_input['xknots'] = xknots\n",
    "fit_input['yknots'] = yknots\n",
    "fit_input['c'] = coeffs\n",
    "\n",
    "fit = model.sampling(data=fit_input, iter=1000, chains=4)"
   ]
  },
  {
   "cell_type": "code",
   "execution_count": 8,
   "metadata": {
    "ExecuteTime": {
     "end_time": "2019-03-10T20:42:58.140215Z",
     "start_time": "2019-03-10T20:42:57.663891Z"
    }
   },
   "outputs": [
    {
     "data": {
      "image/png": "[encoded data removed]",
      "text/plain": [
       "<Figure size 396x396 with 4 Axes>"
      ]
     },
     "execution_count": 8,
     "metadata": {},
     "output_type": "execute_result"
    },
    {
     "data": {
      "image/png": "[encoded data removed]",
      "text/plain": [
       "<Figure size 396x396 with 4 Axes>"
      ]
     },
     "metadata": {},
     "output_type": "display_data"
    }
   ],
   "source": [
    "# View fit parameters\n",
    "chain = fit.extract(permuted=True)\n",
    "key_list = ['alpha', 'N']\n",
    "labels = [r'$\\alpha$', '$N$']\n",
    "#truths = [2.0, 0.9236320123663313]\n",
    "\n",
    "corner.corner(np.column_stack([chain[key] for key in key_list]),\n",
    "              labels=labels) #, truths=truths);"
   ]
  },
  {
   "cell_type": "markdown",
   "metadata": {},
   "source": [
    "## Testing spline"
   ]
  },
  {
   "cell_type": "code",
   "execution_count": null,
   "metadata": {
    "ExecuteTime": {
     "end_time": "2019-03-10T19:54:20.378536Z",
     "start_time": "2019-03-10T19:54:20.365190Z"
    }
   },
   "outputs": [],
   "source": [
    "# Compile the Stan model\n",
    "model = stan_utility.compile_model(filename='stan/testing.stan', \n",
    "                                   model_name='testing', include_paths='stan/')"
   ]
  },
  {
   "cell_type": "code",
   "execution_count": null,
   "metadata": {
    "ExecuteTime": {
     "end_time": "2019-03-10T19:54:21.073597Z",
     "start_time": "2019-03-10T19:54:21.069026Z"
    }
   },
   "outputs": [],
   "source": [
    "xvals = np.logspace(np.log(min(xknots)), np.log(max(xknots)), base=np.e)\n",
    "yvals = np.logspace(np.log(min(yknots)), np.log(max(yknots)), base=np.e)"
   ]
  },
  {
   "cell_type": "code",
   "execution_count": null,
   "metadata": {
    "ExecuteTime": {
     "end_time": "2019-03-10T19:54:21.760449Z",
     "start_time": "2019-03-10T19:54:21.504184Z"
    }
   },
   "outputs": [],
   "source": [
    "fit_input['p'] = p\n",
    "fit_input['Lknots_x'] = len(xknots)\n",
    "fit_input['Lknots_y'] = len(yknots)\n",
    "fit_input['xknots'] = xknots\n",
    "fit_input['yknots'] = yknots\n",
    "fit_input['c'] = coeffs\n",
    "fit_input['Nevals'] = 50\n",
    "fit_input['xvals'] = xvals\n",
    "fit_input['yvals'] = yvals\n",
    "\n",
    "output = model.sampling(data = fit_input, iter=1, chains=1, \n",
    "                          algorithm=\"Fixed_param\")"
   ]
  },
  {
   "cell_type": "code",
   "execution_count": null,
   "metadata": {
    "ExecuteTime": {
     "end_time": "2019-03-10T19:54:43.471192Z",
     "start_time": "2019-03-10T19:54:42.262111Z"
    }
   },
   "outputs": [],
   "source": [
    "zvals = output.extract(['zvals'])['zvals'][0]\n",
    "log_zvals = output.extract(['log_zvals'])['log_zvals'][0]\n",
    "plt.imshow(log_zvals, origin='lower')"
   ]
  },
  {
   "cell_type": "code",
   "execution_count": null,
   "metadata": {
    "ExecuteTime": {
     "end_time": "2019-03-10T19:54:50.534566Z",
     "start_time": "2019-03-10T19:54:50.488086Z"
    }
   },
   "outputs": [],
   "source": [
    "for i in range(50):\n",
    "    for j in range(50):\n",
    "        if np.isnan(log_zvals[i][j]):\n",
    "            print('NaN!')"
   ]
  },
  {
   "cell_type": "code",
   "execution_count": null,
   "metadata": {
    "ExecuteTime": {
     "end_time": "2019-03-10T20:06:21.547133Z",
     "start_time": "2019-03-10T20:06:21.541183Z"
    }
   },
   "outputs": [],
   "source": [
    "xknots"
   ]
  },
  {
   "cell_type": "code",
   "execution_count": null,
   "metadata": {},
   "outputs": [],
   "source": []
  }
 ],
 "metadata": {
  "kernelspec": {
   "display_name": "Python (bayes)",
   "language": "python",
   "name": "bayes"
  },
  "language_info": {
   "codemirror_mode": {
    "name": "ipython",
    "version": 3
   },
   "file_extension": ".py",
   "mimetype": "text/x-python",
   "name": "python",
   "nbconvert_exporter": "python",
   "pygments_lexer": "ipython3",
   "version": "3.6.4"
  }
 },
 "nbformat": 4,
 "nbformat_minor": 2
}
