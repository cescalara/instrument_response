{
 "cells": [
  {
   "cell_type": "markdown",
   "metadata": {},
   "source": [
    "# Spectral fitting \n",
    "Demonstration of how to fit a spectrum for the example described in `response_demo.ipynb` where an instrument response was generated for a simple toy detector.\n",
    "\n",
    "We will look at two different methods for comparison, both using [Stan](https://mc-stan.org)."
   ]
  },
  {
   "cell_type": "code",
   "execution_count": 5,
   "metadata": {
    "ExecuteTime": {
     "end_time": "2019-03-11T16:33:29.200380Z",
     "start_time": "2019-03-11T16:33:29.195510Z"
    }
   },
   "outputs": [],
   "source": [
    "import numpy as np\n",
    "import h5py\n",
    "import stan_utility\n",
    "import corner\n",
    "from matplotlib import pyplot as plt\n",
    "from instrument_response.detector import Response"
   ]
  },
  {
   "cell_type": "code",
   "execution_count": 6,
   "metadata": {
    "ExecuteTime": {
     "end_time": "2019-03-11T16:33:29.518559Z",
     "start_time": "2019-03-11T16:33:29.515285Z"
    }
   },
   "outputs": [],
   "source": [
    "random_seed = 1"
   ]
  },
  {
   "cell_type": "markdown",
   "metadata": {},
   "source": [
    "We have some data detected by our toy detector. We think it comes from a power law (this is our model), and under this assumption, we want to fit for the normalisation, $F_N$, and spectral index, $\\alpha$, of this model (the parameters). In order to compare our model with data, we will use the response generated in `response_demo.ipynb`."
   ]
  },
  {
   "cell_type": "code",
   "execution_count": 7,
   "metadata": {
    "ExecuteTime": {
     "end_time": "2019-03-11T16:33:32.578696Z",
     "start_time": "2019-03-11T16:33:31.130490Z"
    }
   },
   "outputs": [],
   "source": [
    "# Load response\n",
    "response_file = 'output/response_sim.h5'\n",
    "with h5py.File(response_file, 'r') as f:\n",
    "    initial_energy = f['initial_energy'].value\n",
    "    true_energy = f['true_energy'].value\n",
    "    detected_energy = f['detected_energy'].value\n",
    "    effective_area_max = f['effective_area_maximum'].value\n",
    "response = Response(initial_energy, true_energy, detected_energy, effective_area_max, \n",
    "                    nbins_true_energy=100, nbins_detected_energy=50)"
   ]
  },
  {
   "cell_type": "code",
   "execution_count": 8,
   "metadata": {
    "ExecuteTime": {
     "end_time": "2019-03-11T16:33:33.100390Z",
     "start_time": "2019-03-11T16:33:32.580738Z"
    }
   },
   "outputs": [
    {
     "data": {
      "image/png": "[encoded data removed]",
      "text/plain": [
       "<Figure size 432x288 with 1 Axes>"
      ]
     },
     "metadata": {},
     "output_type": "display_data"
    }
   ],
   "source": [
    "# Have a look at the data \n",
    "data_file = 'output/data.h5'\n",
    "\n",
    "with h5py.File(data_file, 'r') as f:\n",
    "    detected_energy = f['detected_energy'].value\n",
    "\n",
    "dN_dt, _ = np.histogram(detected_energy, bins=response.detected_energy_bins)\n",
    "\n",
    "fig, ax = plt.subplots()\n",
    "ax.step(response.detected_energy_bins[:-1], dN_dt, where='pre')\n",
    "ax.set_xscale('log')\n",
    "ax.set_xlabel('$E_\\mathrm{det}$ / TeV')\n",
    "ax.set_ylabel(r'$\\frac{\\mathrm{d}N}{\\mathrm{d}t}$');"
   ]
  },
  {
   "cell_type": "markdown",
   "metadata": {
    "ExecuteTime": {
     "end_time": "2019-03-10T13:48:39.807253Z",
     "start_time": "2019-03-10T13:48:39.802880Z"
    }
   },
   "source": [
    "## Standard approach\n",
    "For this simple fitting example, we can fold our model spectrum through the instrument response to compare with the data in the fit, as described in `response_demo.ipynb`. We will use the Hamiltonian Monte Carlo approach implemented in `Stan` to determine which model parameters best describe our data.\n",
    "\n",
    "The likelihood is:\n",
    "$$\n",
    "p(n | \\alpha, F_N) = \\prod_{i=1}^{N_{\\rm{bins}}} \\frac{s_i^{n_i}e^{-s_i}}{n_i!},\n",
    "$$\n",
    "\n",
    "where $s_i$ are the expected counts in each energy bin (or *channel*), computed by folding the model through the repsonse, and $n_i$ are the actual observed counts in each bin."
   ]
  },
  {
   "cell_type": "code",
   "execution_count": null,
   "metadata": {
    "ExecuteTime": {
     "end_time": "2019-03-11T16:24:40.179113Z",
     "start_time": "2019-03-11T16:24:40.167498Z"
    }
   },
   "outputs": [],
   "source": [
    "# Compile the Stan model\n",
    "model = stan_utility.compile_model(filename='stan/standard_approach.stan', \n",
    "                                   model_name='standard')"
   ]
  },
  {
   "cell_type": "code",
   "execution_count": null,
   "metadata": {
    "ExecuteTime": {
     "end_time": "2019-03-11T16:25:25.822132Z",
     "start_time": "2019-03-11T16:24:41.055269Z"
    }
   },
   "outputs": [],
   "source": [
    "# Run the fit\n",
    "fit_input = {}\n",
    "fit_input['Nbins_true'] = response.nbins_true_energy\n",
    "fit_input['Nbins_detected'] = response.nbins_detected_energy\n",
    "fit_input['min_energy'] = 1 # TeV\n",
    "fit_input['max_energy'] = 100 # TeV\n",
    "fit_input['n'] = dN_dt\n",
    "fit_input['response_matrix'] = response.matrix\n",
    "fit_input['true_energy_bins'] = response.true_energy_bins\n",
    "fit_input['detected_energy_bins'] = response.detected_energy_bins\n",
    "\n",
    "fit = model.sampling(data=fit_input, iter=1000, chains=4, seed=random_seed)\n",
    "# Warnings below just because some channels have zero counts..."
   ]
  },
  {
   "cell_type": "code",
   "execution_count": null,
   "metadata": {
    "ExecuteTime": {
     "end_time": "2019-03-11T16:25:26.168594Z",
     "start_time": "2019-03-11T16:25:25.824330Z"
    }
   },
   "outputs": [],
   "source": [
    "# View fit parameters\n",
    "chain = fit.extract(permuted=True)\n",
    "key_list = ['alpha', 'F_N']\n",
    "labels = [r'$\\alpha$', r'$F_N$']\n",
    "\n",
    "# Compare with true values\n",
    "with h5py.File(data_file, 'r') as f:\n",
    "    true_alpha = f['power_law_index'].value\n",
    "    true_F_N = f['flux_normalisation'].value\n",
    "truths = [true_alpha, true_F_N]\n",
    "\n",
    "corner.corner(np.column_stack([chain[key] for key in key_list]),\n",
    "              labels=labels, truths=truths);"
   ]
  },
  {
   "cell_type": "code",
   "execution_count": null,
   "metadata": {
    "ExecuteTime": {
     "end_time": "2019-03-11T16:25:26.916481Z",
     "start_time": "2019-03-11T16:25:26.170919Z"
    }
   },
   "outputs": [],
   "source": [
    "# Look at samples of folded model counts in data space\n",
    "fig, ax = plt.subplots()\n",
    "ax.step(response.detected_energy_bins[:-1], fit_input['n'], where='pre')\n",
    "for i in range(100):\n",
    "    ax.step(response.detected_energy_bins[:-1], chain['s'][i], \n",
    "            where='pre', color='k', alpha = 0.05)\n",
    "ax.set_xscale('log')\n",
    "ax.set_xlabel('$E_\\mathrm{det}$ / TeV')\n",
    "ax.set_ylabel(r'$\\frac{\\mathrm{d}N}{\\mathrm{d}t}$');"
   ]
  },
  {
   "cell_type": "markdown",
   "metadata": {},
   "source": [
    "## Hierarchical approach\n",
    "\n",
    "Another way to think about this could be to model each particle/photon from production to detection. In this way, each particle/photon would have latent *true* energies inferred from their detected energies. \n",
    "\n",
    "\n",
    "This time, instead of the response matrix used above, we now want a related quantity, the probability distribution of $P(E_{\\rm{det}} | E_{\\rm{true}})$ which will form part of the hierarchical likelihood. Our data will also now be just the detected energies for each event registered in the detector. \n",
    "\n",
    "The likelihood is that of a poisson process which varies with energy\n",
    "$$\n",
    "P(E_{\\rm{det}} | \\alpha, N) = e^{-\\bar{N}_{\\rm{events}}}\\prod_{i=1}^{N_{\\rm{events}}} \n",
    "P({\\rm{detected}} | E_{\\rm{true}})P(E_{\\rm{det}}^i | E_{\\rm{true}}^i) P(E_{\\rm{true}}^i | \\alpha, N),\n",
    "$$\n",
    "\n",
    "where $\\bar{N}_{\\rm{events}} = \\int {\\rm{d}}E \\ A_{\\rm{eff}}(E) \\frac{{\\rm{d}}N}{{\\rm{d}}E{\\rm{d}}t{\\rm{d}}A}$. We can get the conditional probability distribution $P(E_{\\rm{det}} | E_{\\rm{true}})$ and the effective area $A_{\\rm{eff}}(E)$ from the same information used to construct the response matrix."
   ]
  },
  {
   "cell_type": "code",
   "execution_count": 9,
   "metadata": {
    "ExecuteTime": {
     "end_time": "2019-03-11T16:33:36.296287Z",
     "start_time": "2019-03-11T16:33:36.227937Z"
    }
   },
   "outputs": [],
   "source": [
    "# Get the conditional log probability\n",
    "true_energy_grid = np.logspace(np.log(1.0), np.log(100.0), \n",
    "                               response.nbins_true_energy, base=np.e)\n",
    "cond_log_prob = response.get_log_conditionals(detected_energy, true_energy_grid)"
   ]
  },
  {
   "cell_type": "code",
   "execution_count": 15,
   "metadata": {
    "ExecuteTime": {
     "end_time": "2019-03-11T16:35:59.745722Z",
     "start_time": "2019-03-11T16:35:10.798978Z"
    }
   },
   "outputs": [
    {
     "name": "stderr",
     "output_type": "stream",
     "text": [
      "INFO:pystan:COMPILING THE C++ CODE FOR MODEL hierarchical_693b93157b7f4fcd2cf5b333126bac67 NOW.\n"
     ]
    }
   ],
   "source": [
    "# Compile the Stan model\n",
    "model = stan_utility.compile_model(filename='stan/hierarchical_approach.stan', \n",
    "                                   model_name='hierarchical', include_paths='stan/')"
   ]
  },
  {
   "cell_type": "code",
   "execution_count": 11,
   "metadata": {
    "ExecuteTime": {
     "end_time": "2019-03-11T16:33:41.303503Z",
     "start_time": "2019-03-11T16:33:37.076030Z"
    }
   },
   "outputs": [],
   "source": [
    "# Run the fit\n",
    "fit_input = {}\n",
    "fit_input['Nevents'] = len(detected_energy)\n",
    "fit_input['Edet'] = detected_energy\n",
    "fit_input['min_energy'] = 1.0 # TeV\n",
    "fit_input['max_energy'] = 100.0 # TeV\n",
    "fit_input['Ngrid'] = response.nbins_true_energy\n",
    "fit_input['Etrue_grid'] = true_energy_grid\n",
    "fit_input['cond_log_prob'] = cond_log_prob\n",
    "\n",
    "fit = model.sampling(data=fit_input, iter=1000, chains=4)"
   ]
  },
  {
   "cell_type": "code",
   "execution_count": 12,
   "metadata": {
    "ExecuteTime": {
     "end_time": "2019-03-11T16:33:42.097401Z",
     "start_time": "2019-03-11T16:33:41.764861Z"
    }
   },
   "outputs": [
    {
     "data": {
      "image/png": "[encoded data removed]",
      "text/plain": [
       "<Figure size 396x396 with 4 Axes>"
      ]
     },
     "metadata": {},
     "output_type": "display_data"
    }
   ],
   "source": [
    "# View fit parameters\n",
    "chain = fit.extract(permuted=True)\n",
    "key_list = ['alpha', 'F_N']\n",
    "labels = [r'$\\alpha$', '$F_N$']\n",
    "\n",
    "# Compare with true values\n",
    "with h5py.File(data_file, 'r') as f:\n",
    "    true_alpha = f['power_law_index'].value\n",
    "    true_F_N = f['flux_normalisation'].value\n",
    "truths = [true_alpha, true_F_N]\n",
    "\n",
    "corner.corner(np.column_stack([chain[key] for key in key_list]),\n",
    "              labels=labels, truths=truths);"
   ]
  },
  {
   "cell_type": "markdown",
   "metadata": {},
   "source": [
    "We see similar results to the standard method, and for this simple problem, the fit is actually much faster in this form."
   ]
  },
  {
   "cell_type": "code",
   "execution_count": 37,
   "metadata": {
    "ExecuteTime": {
     "end_time": "2019-03-11T16:44:09.544988Z",
     "start_time": "2019-03-11T16:44:09.188028Z"
    }
   },
   "outputs": [
    {
     "data": {
      "text/plain": [
       "Text(0.5,0,'$E_\\\\mathrm{true}$ / TeV')"
      ]
     },
     "execution_count": 37,
     "metadata": {},
     "output_type": "execute_result"
    },
    {
     "data": {
      "image/png": "[encoded data removed]",
      "text/plain": [
       "<Figure size 432x288 with 1 Axes>"
      ]
     },
     "metadata": {},
     "output_type": "display_data"
    }
   ],
   "source": [
    "# Look at the latent energy samples\n",
    "fig, ax = plt.subplots()\n",
    "\n",
    "for i, c in zip([0, 10, 30], ['r', 'g', 'b']):\n",
    "    ax.hist(chain['Etrue'].T[i], bins=response.true_energy_bins,\n",
    "            histtype='step', alpha = 0.7, lw=2, color=c);\n",
    "    ax.axvline(detected_energy[i], linestyle=':', color=c)\n",
    "ax.set_xscale('log')\n",
    "ax.set_xlabel('$E_\\mathrm{true}$ / TeV')"
   ]
  },
  {
   "cell_type": "markdown",
   "metadata": {},
   "source": [
    "For each detected energy, the inferred latent true energies have a distribution, matching that described by the instrument response. This concept is different to that of direct *inversion* or calculation of the true energies from the detected energies."
   ]
  },
  {
   "cell_type": "markdown",
   "metadata": {},
   "source": [
    "# Discussion"
   ]
  },
  {
   "cell_type": "code",
   "execution_count": null,
   "metadata": {},
   "outputs": [],
   "source": []
  }
 ],
 "metadata": {
  "kernelspec": {
   "display_name": "Python (bayes)",
   "language": "python",
   "name": "bayes"
  },
  "language_info": {
   "codemirror_mode": {
    "name": "ipython",
    "version": 3
   },
   "file_extension": ".py",
   "mimetype": "text/x-python",
   "name": "python",
   "nbconvert_exporter": "python",
   "pygments_lexer": "ipython3",
   "version": "3.6.4"
  }
 },
 "nbformat": 4,
 "nbformat_minor": 2
}
